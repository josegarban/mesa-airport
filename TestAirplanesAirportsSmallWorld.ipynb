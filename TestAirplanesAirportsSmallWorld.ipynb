{
 "cells": [
  {
   "cell_type": "code",
   "execution_count": 29,
   "metadata": {},
   "outputs": [
    {
     "name": "stdout",
     "output_type": "stream",
     "text": [
      "The autoreload extension is already loaded. To reload it, use:\n",
      "  %reload_ext autoreload\n"
     ]
    },
    {
     "name": "stderr",
     "output_type": "stream",
     "text": [
      "[autoreload of boid failed: Traceback (most recent call last):\n",
      "  File \"c:\\Users\\José\\Documents\\python\\mesa-airport\\myvenv\\lib\\site-packages\\IPython\\extensions\\autoreload.py\", line 257, in check\n",
      "    superreload(m, reload, self.old_objects)\n",
      "  File \"c:\\Users\\José\\Documents\\python\\mesa-airport\\myvenv\\lib\\site-packages\\IPython\\extensions\\autoreload.py\", line 455, in superreload\n",
      "    module = reload(module)\n",
      "  File \"C:\\Python38\\lib\\importlib\\__init__.py\", line 169, in reload\n",
      "    _bootstrap._exec(spec, module)\n",
      "  File \"<frozen importlib._bootstrap>\", line 604, in _exec\n",
      "  File \"<frozen importlib._bootstrap_external>\", line 779, in exec_module\n",
      "  File \"<frozen importlib._bootstrap_external>\", line 916, in get_code\n",
      "  File \"<frozen importlib._bootstrap_external>\", line 846, in source_to_code\n",
      "  File \"<frozen importlib._bootstrap>\", line 219, in _call_with_frames_removed\n",
      "  File \"c:\\Users\\José\\Documents\\python\\mesa-airport\\boid.py\", line 156\n",
      "    if next_pos in (self.route[0], self.route[1]) and next_pos <> self.pos:\n",
      "                                                                ^\n",
      "SyntaxError: invalid syntax\n",
      "]\n"
     ]
    }
   ],
   "source": [
    "from model import AirplaneFlockers\n",
    "import paths\n",
    "import numpy as np\n",
    "import matplotlib.pyplot as plt\n",
    "from pprint import pprint\n",
    "%matplotlib inline\n",
    "%load_ext autoreload\n",
    "%autoreload 2"
   ]
  },
  {
   "cell_type": "code",
   "execution_count": 30,
   "metadata": {},
   "outputs": [
    {
     "name": "stdout",
     "output_type": "stream",
     "text": [
      "((2, 2), (3, 3), (1, 0), (1, 2), (8, 1), (8, 3))\n"
     ]
    }
   ],
   "source": [
    "AIRPORTS = paths.AIRPORTS\n",
    "print(AIRPORTS)"
   ]
  },
  {
   "cell_type": "code",
   "execution_count": 31,
   "metadata": {},
   "outputs": [],
   "source": [
    "worldmap, route_solutions = paths.main(AIRPORTS, width=10, height=10)"
   ]
  },
  {
   "cell_type": "code",
   "execution_count": 32,
   "metadata": {},
   "outputs": [
    {
     "name": "stdout",
     "output_type": "stream",
     "text": [
      "[(2, 2), (3, 2), (3, 3)]\n",
      "[(1, 0), (1, 1), (1, 2)]\n",
      "[(8, 1), (8, 2), (8, 3)]\n"
     ]
    }
   ],
   "source": [
    "for p in route_solutions: print(p)"
   ]
  },
  {
   "cell_type": "code",
   "execution_count": 33,
   "metadata": {},
   "outputs": [],
   "source": [
    "def draw_boids(model):\n",
    "    airport_x , airport_y   = [], []\n",
    "    airplane_x, airplane_y = [], []\n",
    "    \n",
    "    airplanes = [x for x in model.schedule.agents if x.type == \"airplane\"]\n",
    "    airports  = [x for x in model.schedule.agents if x.type == \"airport\" ]\n",
    "\n",
    "    for a in airports:\n",
    "        x, y = a.pos\n",
    "        airport_x.append(x)\n",
    "        airport_y.append(y)                    \n",
    "    for a in airplanes:\n",
    "        x, y = a.pos\n",
    "        airplane_x.append(x)\n",
    "        airplane_y.append(y)\n",
    "    \n",
    "    fig = plt.figure(figsize=(10,10))\n",
    "\n",
    "    ax = fig.add_subplot(111)\n",
    "    ax.scatter(airplane_x, airplane_y, marker=\"2\")\n",
    "    ax.scatter(airport_x, airport_y, alpha=0.5, edgecolors='black')\n",
    "\n",
    "    for (x,y) in zip(airplane_x, airplane_y):\n",
    "        label = \"  ✈{:.0f}\".format(airplane_x.index(x)) + \"({0}, {1})\".format(x,y)\n",
    "        plt.annotate(label, (x,y))\n",
    "\n",
    "    plt.xlim([0, 10])\n",
    "    plt.ylim([0, 10])\n"
   ]
  },
  {
   "cell_type": "code",
   "execution_count": 34,
   "metadata": {},
   "outputs": [
    {
     "name": "stdout",
     "output_type": "stream",
     "text": [
      "[2 2]\n",
      "[1 0]\n",
      "[8 1]\n"
     ]
    }
   ],
   "source": [
    "model = AirplaneFlockers(population=0, \n",
    "                         width=100, height=100, \n",
    "                         routes=route_solutions)"
   ]
  },
  {
   "cell_type": "code",
   "execution_count": 35,
   "metadata": {},
   "outputs": [
    {
     "name": "stdout",
     "output_type": "stream",
     "text": [
      "Plane 2 at position 0 ([8 1]) in direction 1\n"
     ]
    },
    {
     "ename": "IndexError",
     "evalue": "list index out of range",
     "output_type": "error",
     "traceback": [
      "\u001b[1;31m---------------------------------------------------------------------------\u001b[0m",
      "\u001b[1;31mIndexError\u001b[0m                                Traceback (most recent call last)",
      "Cell \u001b[1;32mIn [35], line 2\u001b[0m\n\u001b[0;32m      1\u001b[0m \u001b[38;5;28;01mfor\u001b[39;00m i \u001b[38;5;129;01min\u001b[39;00m \u001b[38;5;28mlist\u001b[39m(\u001b[38;5;28mrange\u001b[39m(\u001b[38;5;241m20\u001b[39m)):\n\u001b[1;32m----> 2\u001b[0m     \u001b[43mmodel\u001b[49m\u001b[38;5;241;43m.\u001b[39;49m\u001b[43mstep\u001b[49m\u001b[43m(\u001b[49m\u001b[43m)\u001b[49m\n\u001b[0;32m      3\u001b[0m     draw_boids(model)\n",
      "File \u001b[1;32mc:\\Users\\José\\Documents\\python\\mesa-airport\\model.py:130\u001b[0m, in \u001b[0;36mAirplaneFlockers.step\u001b[1;34m(self)\u001b[0m\n\u001b[0;32m    129\u001b[0m \u001b[39mdef\u001b[39;00m \u001b[39mstep\u001b[39m(\u001b[39mself\u001b[39m):\n\u001b[1;32m--> 130\u001b[0m     \u001b[39mself\u001b[39;49m\u001b[39m.\u001b[39;49mschedule\u001b[39m.\u001b[39;49mstep()\n",
      "File \u001b[1;32mc:\\Users\\José\\Documents\\python\\mesa-airport\\myvenv\\lib\\site-packages\\mesa\\time.py:129\u001b[0m, in \u001b[0;36mRandomActivation.step\u001b[1;34m(self)\u001b[0m\n\u001b[0;32m    124\u001b[0m \u001b[39m\"\"\"Executes the step of all agents, one at a time, in\u001b[39;00m\n\u001b[0;32m    125\u001b[0m \u001b[39mrandom order.\u001b[39;00m\n\u001b[0;32m    126\u001b[0m \n\u001b[0;32m    127\u001b[0m \u001b[39m\"\"\"\u001b[39;00m\n\u001b[0;32m    128\u001b[0m \u001b[39mfor\u001b[39;00m agent \u001b[39min\u001b[39;00m \u001b[39mself\u001b[39m\u001b[39m.\u001b[39magent_buffer(shuffled\u001b[39m=\u001b[39m\u001b[39mTrue\u001b[39;00m):\n\u001b[1;32m--> 129\u001b[0m     agent\u001b[39m.\u001b[39;49mstep()\n\u001b[0;32m    130\u001b[0m \u001b[39mself\u001b[39m\u001b[39m.\u001b[39msteps \u001b[39m+\u001b[39m\u001b[39m=\u001b[39m \u001b[39m1\u001b[39m\n\u001b[0;32m    131\u001b[0m \u001b[39mself\u001b[39m\u001b[39m.\u001b[39mtime \u001b[39m+\u001b[39m\u001b[39m=\u001b[39m \u001b[39m1\u001b[39m\n",
      "File \u001b[1;32mc:\\Users\\José\\Documents\\python\\mesa-airport\\boid.py:158\u001b[0m, in \u001b[0;36mAirplane.step\u001b[1;34m(self)\u001b[0m\n\u001b[0;32m    156\u001b[0m \u001b[39mif\u001b[39;00m next_pos \u001b[39min\u001b[39;00m (\u001b[39mself\u001b[39m\u001b[39m.\u001b[39mroute[\u001b[39m0\u001b[39m], \u001b[39mself\u001b[39m\u001b[39m.\u001b[39mroute[\u001b[39m1\u001b[39m]):\n\u001b[0;32m    157\u001b[0m     airport_cell \u001b[39m=\u001b[39m \u001b[39mself\u001b[39m\u001b[39m.\u001b[39mmodel\u001b[39m.\u001b[39mgrid\u001b[39m.\u001b[39mget_cell_list_contents([\u001b[39mself\u001b[39m\u001b[39m.\u001b[39mpos])\n\u001b[1;32m--> 158\u001b[0m     airport \u001b[39m=\u001b[39m [obj \u001b[39mfor\u001b[39;49;00m obj \u001b[39min\u001b[39;49;00m airport_cell \u001b[39mif\u001b[39;49;00m \u001b[39misinstance\u001b[39;49m(obj, Airport)][\u001b[39m0\u001b[39;49m]\n\u001b[0;32m    160\u001b[0m     \u001b[39mprint\u001b[39m (\u001b[39m\"\u001b[39m\u001b[39m{0}\u001b[39;00m\u001b[39m runways out of \u001b[39m\u001b[39m{1}\u001b[39;00m\u001b[39m are occupied at the airport at \u001b[39m\u001b[39m{2}\u001b[39;00m\u001b[39m\"\u001b[39m\u001b[39m.\u001b[39mformat(airport\u001b[39m.\u001b[39mrunways_occupied, airport\u001b[39m.\u001b[39mrunways, airport\u001b[39m.\u001b[39mpos))\n\u001b[0;32m    163\u001b[0m \u001b[39mself\u001b[39m\u001b[39m.\u001b[39mprevi  \u001b[39m=\u001b[39m \u001b[39mself\u001b[39m\u001b[39m.\u001b[39mindex\n",
      "\u001b[1;31mIndexError\u001b[0m: list index out of range"
     ]
    }
   ],
   "source": [
    "for i in list(range(20)):\n",
    "    model.step()\n",
    "    draw_boids(model)"
   ]
  }
 ],
 "metadata": {
  "kernelspec": {
   "display_name": "Python 3",
   "language": "python",
   "name": "python3"
  },
  "language_info": {
   "codemirror_mode": {
    "name": "ipython",
    "version": 3
   },
   "file_extension": ".py",
   "mimetype": "text/x-python",
   "name": "python",
   "nbconvert_exporter": "python",
   "pygments_lexer": "ipython3",
   "version": "3.8.6"
  },
  "vscode": {
   "interpreter": {
    "hash": "ac0361fe9d349f8b7c27ee8f1f3d44f7f72b5175debcb1e396f4ef162e889687"
   }
  }
 },
 "nbformat": 4,
 "nbformat_minor": 1
}
